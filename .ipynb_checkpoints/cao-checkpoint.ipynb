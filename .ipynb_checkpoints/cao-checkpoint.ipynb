{
 "cells": [
  {
   "cell_type": "markdown",
   "metadata": {},
   "source": [
    "# CAO Points Analysis Using Pandas "
   ]
  },
  {
   "cell_type": "markdown",
   "metadata": {},
   "source": [
    "## Fundamentals of Data Analysis Assignment"
   ]
  },
  {
   "cell_type": "markdown",
   "metadata": {},
   "source": [
    "### Andrew Walker - G00398788@gmit.ie"
   ]
  },
  {
   "cell_type": "markdown",
   "metadata": {},
   "source": [
    "![https://pandas.pydata.org](https://pandas.pydata.org/docs/_static/pandas.svg)"
   ]
  },
  {
   "cell_type": "markdown",
   "metadata": {},
   "source": [
    "http://www2.cao.ie/points/l8.php"
   ]
  },
  {
   "cell_type": "code",
   "execution_count": 1,
   "metadata": {},
   "outputs": [],
   "source": [
    "# Convenient HTTP requests.\n",
    "#import requests as rq\n",
    "\n",
    "# Regular expressions.\n",
    "#import re\n",
    "\n",
    "# Dates and times.\n",
    "#import datetime as dt\n",
    "\n",
    "# Data frames.\n",
    "#import pandas as pd\n",
    "\n",
    "# For downloading.\n",
    "#import urllib.request as urlrq"
   ]
  },
  {
   "cell_type": "markdown",
   "metadata": {},
   "source": [
    "# Ian's example up to Excel Files and PDFs week"
   ]
  },
  {
   "cell_type": "code",
   "execution_count": 2,
   "metadata": {},
   "outputs": [],
   "source": [
    "# Regular expressions.\n",
    "import re\n",
    "\n",
    "# Convenient HTTP requests.\n",
    "import requests as rq\n",
    "\n",
    "# Dates and times\n",
    "import datetime as dt\n",
    "\n",
    "# Data frames\n",
    "import pandas as pd"
   ]
  },
  {
   "cell_type": "markdown",
   "metadata": {},
   "source": [
    "<br>\n",
    "\n",
    "## 2021 Points\n",
    "\n"
   ]
  },
  {
   "cell_type": "code",
   "execution_count": 3,
   "metadata": {},
   "outputs": [
    {
     "data": {
      "text/plain": [
       "<Response [200]>"
      ]
     },
     "execution_count": 3,
     "metadata": {},
     "output_type": "execute_result"
    }
   ],
   "source": [
    "# Fetch the CAO points URL.\n",
    "resp = rq.get('http://www2.cao.ie/points/l8.php')\n",
    "# Have a look\n",
    "resp"
   ]
  },
  {
   "cell_type": "markdown",
   "metadata": {},
   "source": [
    "### Save original data set"
   ]
  },
  {
   "cell_type": "code",
   "execution_count": 4,
   "metadata": {},
   "outputs": [],
   "source": [
    "# get the current date and time\n",
    "now = dt.datetime.now()\n",
    "\n",
    "# format as a string\n",
    "nowstr = now.strftime('%Y%m%d_%H%M%S')"
   ]
  },
  {
   "cell_type": "code",
   "execution_count": 5,
   "metadata": {},
   "outputs": [],
   "source": [
    "# Create a file path for the original data\n",
    "path = 'data/cao2021_LvL8_csv_' + nowstr + '.html'"
   ]
  },
  {
   "cell_type": "markdown",
   "metadata": {},
   "source": [
    "<br>\n",
    "\n",
    "## Error on server \n",
    "\n",
    "Technically, the server says we should decode as per:\n",
    "            Content-Type: text/html; charset=iso-8859-1\n",
    "However, one line uses \\x96 which isn't defined in in iso-8859-1.\n",
    "Therefore using similar decoding standard cp1252 which includes \\x96."
   ]
  },
  {
   "cell_type": "code",
   "execution_count": 6,
   "metadata": {},
   "outputs": [],
   "source": [
    "# The server uses the wrong encoding, fix it\n",
    "original_encoding = resp.encoding\n",
    "# change to cp1252\n",
    "resp.encoding = 'cp1252'"
   ]
  },
  {
   "cell_type": "code",
   "execution_count": 7,
   "metadata": {},
   "outputs": [],
   "source": [
    "# Save the original html file\n",
    "with open(path, 'w') as f:\n",
    "    f.write(resp.text)"
   ]
  },
  {
   "cell_type": "code",
   "execution_count": 8,
   "metadata": {},
   "outputs": [],
   "source": [
    "# Compile the regular expression for matching lines\n",
    "re_course = re.compile(r'([A-Z]{2}[0-9]{3}) (.*)([0-9]{3})(\\*?) *')"
   ]
  },
  {
   "cell_type": "code",
   "execution_count": 9,
   "metadata": {},
   "outputs": [
    {
     "name": "stdout",
     "output_type": "stream",
     "text": [
      "Total number of lines is 922.\n"
     ]
    }
   ],
   "source": [
    "# File path for the csv file\n",
    "path = 'data/cao2021_LvL8_csv_' + nowstr + '.csv'\n",
    "\n",
    "# Keep track of how many courses we process\n",
    "no_lines = 0\n",
    "\n",
    "# OPen the csv file for writing\n",
    "with open(path, 'w') as f:\n",
    "    # Loop through lines of the response\n",
    "    for line in resp.iter_lines():\n",
    "        # Decode the line, using the wrong encoding\n",
    "        dline = line.decode('cp1252')\n",
    "        # match only the lines we want - the ones representing courses\n",
    "        if re_course.fullmatch(dline):\n",
    "            # add 1 to the lines counter\n",
    "            no_lines = no_lines + 1\n",
    "            # split the line on 2 or more spaces\n",
    "            linesplit = re.split('  +', dline)\n",
    "            # Rejoin the substrings with commas in between\n",
    "            f.write(','.join(linesplit) + '\\n')\n",
    "        \n",
    "        \n",
    "# Print the total number of processed lines        \n",
    "print(f\"Total number of lines is {no_lines}.\")"
   ]
  },
  {
   "cell_type": "markdown",
   "metadata": {},
   "source": [
    "<br>\n",
    "\n",
    "## 2020 Points\n",
    "\n",
    "***"
   ]
  },
  {
   "cell_type": "markdown",
   "metadata": {},
   "source": [
    "https://www.cao.ie/index.php?page=points&p=2020&bb=points"
   ]
  },
  {
   "cell_type": "code",
   "execution_count": null,
   "metadata": {},
   "outputs": [],
   "source": []
  },
  {
   "cell_type": "code",
   "execution_count": null,
   "metadata": {},
   "outputs": [],
   "source": []
  },
  {
   "cell_type": "code",
   "execution_count": null,
   "metadata": {},
   "outputs": [],
   "source": []
  },
  {
   "cell_type": "code",
   "execution_count": null,
   "metadata": {},
   "outputs": [],
   "source": []
  },
  {
   "cell_type": "code",
   "execution_count": null,
   "metadata": {},
   "outputs": [],
   "source": []
  },
  {
   "cell_type": "code",
   "execution_count": null,
   "metadata": {},
   "outputs": [],
   "source": []
  },
  {
   "cell_type": "code",
   "execution_count": null,
   "metadata": {},
   "outputs": [],
   "source": []
  },
  {
   "cell_type": "code",
   "execution_count": null,
   "metadata": {},
   "outputs": [],
   "source": []
  },
  {
   "cell_type": "code",
   "execution_count": null,
   "metadata": {},
   "outputs": [],
   "source": []
  },
  {
   "cell_type": "markdown",
   "metadata": {},
   "source": [
    "# My attempt Level 6/7 2021 data"
   ]
  },
  {
   "cell_type": "markdown",
   "metadata": {},
   "source": [
    "# Fetch the CAO points URL.\n",
    "resp = rq.get('http://www2.cao.ie/points/l76.php')\n",
    "# Have a look\n",
    "resp"
   ]
  },
  {
   "cell_type": "markdown",
   "metadata": {},
   "source": [
    "# get the current date and time\n",
    "now = dt.datetime.now()\n",
    "\n",
    "# format as a string\n",
    "nowstr = now.strftime('%Y%m%d_%H%M%S')"
   ]
  },
  {
   "cell_type": "markdown",
   "metadata": {},
   "source": [
    "# Create a file path for the original data\n",
    "path = 'data/cao2021_LvL7_LvL6_' + nowstr + '.html'"
   ]
  },
  {
   "cell_type": "markdown",
   "metadata": {},
   "source": [
    "# Save the original html file\n",
    "with open(path, 'w') as f:\n",
    "    f.write(resp.text)"
   ]
  },
  {
   "cell_type": "markdown",
   "metadata": {},
   "source": [
    "# Compile the regular expression for matching lines\n",
    "#re_course = re.compile(r'([A-Z]{2}[0-9]{3}) (.*)([0-9]{3})(\\*?) *')\n",
    "#re_course = re.compile(r'([A-Z]{2}[0-9]{3}) (.*)([\\w]{3})(\\*?) *') \n",
    "#re_course = re.compile(r'([A-Z]{2}[0-9]{3}) (.*)([\\w]{3})(\\w*?) *') - this does not include row with zero entries in the 20/21 columns, and some entries are split into 5 columns \n",
    "\n",
    "# this has changed from Ian's so that there are 3 spaces so that course titles with more than 2 spaces are kept in single cell\n",
    "# but courses with no CAO points number are still not included\n",
    "#re_course = re.compile(r'([A-Z]{2}[0-9]{3})  (.*)([\\w]{3})(\\w*?) *')  \n",
    "\n",
    "# this gets more lines 416 compared to 410\n",
    "#re_course = re.compile(r'([A-Z]{2}[0-9,\\s]{3})  (.*)([\\w]{3})*')  \n",
    "\n",
    "re_course = re.compile(r'([A-Z]{2}[0-9,\\s]{3})  (.*)([\\w]{3})(\\D?)*')  \n",
    "\n",
    "\n",
    " "
   ]
  },
  {
   "cell_type": "markdown",
   "metadata": {},
   "source": [
    "# File path for the csv file\n",
    "path = 'data/cao2021_LvL7_LvL6_' + nowstr + '.csv'\n",
    "\n",
    "# Keep track of how many courses we process\n",
    "no_lines = 0\n",
    "\n",
    "# OPen the csv file for writing\n",
    "with open(path, 'w') as f:\n",
    "    # Loop through lines of the response\n",
    "    for line in resp.iter_lines():\n",
    "        # Decode the line, using the wrong encoding\n",
    "        dline = line.decode('cp1252')\n",
    "        # match only the lines we want - the ones representing courses\n",
    "        if re_course.fullmatch(dline):\n",
    "            # add 1 to the lines counter\n",
    "            no_lines = no_lines + 1\n",
    "            # split the line on 3 or more spaces - this has changed from Ian's\n",
    "            #linesplit = re.split('  +', dline)\n",
    "            linesplit = re.split('[E*]', dline)\n",
    "            # Rejoin the substrings with commas in between\n",
    "            f.write(','.join(linesplit) + '\\n')\n",
    "            \n",
    "               \n",
    "# Print the total number of processed lines        \n",
    "print(f\"Total number of lines is {no_lines}.\")"
   ]
  },
  {
   "cell_type": "markdown",
   "metadata": {},
   "source": []
  },
  {
   "cell_type": "markdown",
   "metadata": {},
   "source": [
    "import re\n",
    "\n",
    "s_nums = 'one1two22three333four'\n",
    "\n",
    "print(re.split('[o]', s_nums))\n",
    "# ['one', 'two', 'three', 'four']\n"
   ]
  },
  {
   "cell_type": "markdown",
   "metadata": {},
   "source": []
  }
 ],
 "metadata": {
  "kernelspec": {
   "display_name": "Python 3 (ipykernel)",
   "language": "python",
   "name": "python3"
  },
  "language_info": {
   "codemirror_mode": {
    "name": "ipython",
    "version": 3
   },
   "file_extension": ".py",
   "mimetype": "text/x-python",
   "name": "python",
   "nbconvert_exporter": "python",
   "pygments_lexer": "ipython3",
   "version": "3.8.11"
  }
 },
 "nbformat": 4,
 "nbformat_minor": 4
}
