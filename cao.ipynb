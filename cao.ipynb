{
 "cells": [
  {
   "cell_type": "markdown",
   "metadata": {},
   "source": [
    "# CAO Points Analysis Using Pandas "
   ]
  },
  {
   "cell_type": "markdown",
   "metadata": {},
   "source": [
    "## Fundamentals of Data Analysis Assignment"
   ]
  },
  {
   "cell_type": "markdown",
   "metadata": {},
   "source": [
    "### Andrew Walker - G00398788@gmit.ie"
   ]
  },
  {
   "cell_type": "markdown",
   "metadata": {},
   "source": [
    "![https://pandas.pydata.org](https://pandas.pydata.org/docs/_static/pandas.svg)"
   ]
  },
  {
   "cell_type": "code",
   "execution_count": 1,
   "metadata": {},
   "outputs": [],
   "source": [
    "# Convenient HTTP requests.\n",
    "#import requests as rq\n",
    "\n",
    "# Regular expressions.\n",
    "#import re\n",
    "\n",
    "# Dates and times.\n",
    "#import datetime as dt\n",
    "\n",
    "# Data frames.\n",
    "#import pandas as pd\n",
    "\n",
    "# For downloading.\n",
    "#import urllib.request as urlrq"
   ]
  },
  {
   "cell_type": "markdown",
   "metadata": {},
   "source": [
    "# Ian's example up to Excel Files and PDFs week"
   ]
  },
  {
   "cell_type": "code",
   "execution_count": 2,
   "metadata": {},
   "outputs": [],
   "source": [
    "# Regular expressions.\n",
    "import re\n",
    "\n",
    "# Convenient HTTP requests.\n",
    "import requests as rq\n",
    "\n",
    "# Dates and times\n",
    "import datetime as dt\n",
    "\n",
    "# Data frames\n",
    "import pandas as pd\n",
    "\n",
    "# FOr downloading\n",
    "import urllib.request as urlrq"
   ]
  },
  {
   "cell_type": "markdown",
   "metadata": {},
   "source": [
    "<br>\n",
    "\n",
    "## 2021 Points\n",
    "\n",
    "http://www2.cao.ie/points/l8.php\n",
    "\n",
    "***\n"
   ]
  },
  {
   "cell_type": "code",
   "execution_count": 3,
   "metadata": {},
   "outputs": [
    {
     "data": {
      "text/plain": [
       "<Response [200]>"
      ]
     },
     "execution_count": 3,
     "metadata": {},
     "output_type": "execute_result"
    }
   ],
   "source": [
    "# Fetch the CAO points URL.\n",
    "resp = rq.get('http://www2.cao.ie/points/l8.php')\n",
    "# Have a look\n",
    "resp"
   ]
  },
  {
   "cell_type": "markdown",
   "metadata": {},
   "source": [
    "### Save original data set"
   ]
  },
  {
   "cell_type": "code",
   "execution_count": 4,
   "metadata": {},
   "outputs": [],
   "source": [
    "# get the current date and time\n",
    "now = dt.datetime.now()\n",
    "\n",
    "# format as a string\n",
    "nowstr = now.strftime('%Y%m%d_%H%M%S')"
   ]
  },
  {
   "cell_type": "code",
   "execution_count": 5,
   "metadata": {},
   "outputs": [],
   "source": [
    "# Create a file path for the original data\n",
    "path = 'data/cao2021_LvL8_csv_' + nowstr + '.html'"
   ]
  },
  {
   "cell_type": "markdown",
   "metadata": {},
   "source": [
    "<br>\n",
    "\n",
    "## Error on server \n",
    "\n",
    "Technically, the server says we should decode as per:\n",
    "            Content-Type: text/html; charset=iso-8859-1\n",
    "However, one line uses \\x96 which isn't defined in in iso-8859-1.\n",
    "Therefore using similar decoding standard cp1252 which includes \\x96."
   ]
  },
  {
   "cell_type": "code",
   "execution_count": 6,
   "metadata": {},
   "outputs": [],
   "source": [
    "# The server uses the wrong encoding, fix it\n",
    "original_encoding = resp.encoding\n",
    "# change to cp1252\n",
    "resp.encoding = 'cp1252'"
   ]
  },
  {
   "cell_type": "code",
   "execution_count": 7,
   "metadata": {},
   "outputs": [],
   "source": [
    "# Save the original html file\n",
    "with open(path, 'w') as f:\n",
    "    f.write(resp.text)"
   ]
  },
  {
   "cell_type": "code",
   "execution_count": 8,
   "metadata": {},
   "outputs": [],
   "source": [
    "# Compile the regular expression for matching lines\n",
    "re_course = re.compile(r'([A-Z]{2}[0-9]{3}) (.*)([0-9]{3})(\\*?) *')"
   ]
  },
  {
   "cell_type": "code",
   "execution_count": 9,
   "metadata": {},
   "outputs": [
    {
     "name": "stdout",
     "output_type": "stream",
     "text": [
      "Total number of lines is 922.\n"
     ]
    }
   ],
   "source": [
    "# File path for the csv file\n",
    "path = 'data/cao2021_LvL8_csv_' + nowstr + '.csv'\n",
    "\n",
    "# Keep track of how many courses we process\n",
    "no_lines = 0\n",
    "\n",
    "# OPen the csv file for writing\n",
    "with open(path, 'w') as f:\n",
    "    # Loop through lines of the response\n",
    "    for line in resp.iter_lines():\n",
    "        # Decode the line, using the wrong encoding\n",
    "        dline = line.decode('cp1252')\n",
    "        # match only the lines we want - the ones representing courses\n",
    "        if re_course.fullmatch(dline):\n",
    "            # add 1 to the lines counter\n",
    "            no_lines = no_lines + 1\n",
    "            # split the line on 2 or more spaces\n",
    "            linesplit = re.split('  +', dline)\n",
    "            # Rejoin the substrings with commas in between\n",
    "            f.write(','.join(linesplit) + '\\n')\n",
    "        \n",
    "        \n",
    "# Print the total number of processed lines        \n",
    "print(f\"Total number of lines is {no_lines}.\")"
   ]
  },
  {
   "cell_type": "markdown",
   "metadata": {},
   "source": [
    "<br>\n",
    "\n",
    "## 2020 Points\n",
    "\n",
    "***"
   ]
  },
  {
   "cell_type": "markdown",
   "metadata": {},
   "source": [
    "https://www.cao.ie/index.php?page=points&p=2020&bb=points"
   ]
  },
  {
   "cell_type": "markdown",
   "metadata": {},
   "source": [
    "<br>\n",
    "\n",
    "#### Save Original File"
   ]
  },
  {
   "cell_type": "code",
   "execution_count": 10,
   "metadata": {},
   "outputs": [],
   "source": [
    "# Create a file path for the original data\n",
    "path = 'data/cao2020_' + nowstr + '.xlsx'"
   ]
  },
  {
   "cell_type": "code",
   "execution_count": 11,
   "metadata": {},
   "outputs": [
    {
     "data": {
      "text/plain": [
       "('data/cao2020_20211125_081926.xlsx',\n",
       " <http.client.HTTPMessage at 0x1594eb3b430>)"
      ]
     },
     "execution_count": 11,
     "metadata": {},
     "output_type": "execute_result"
    }
   ],
   "source": [
    "# Save original file to disk\n",
    "urlrq.urlretrieve('http://www2.cao.ie/points/CAOPointsCharts2020.xlsx', path)"
   ]
  },
  {
   "cell_type": "markdown",
   "metadata": {},
   "source": [
    "<br>\n",
    "\n",
    "#### Load Spreadsheet using Pandas"
   ]
  },
  {
   "cell_type": "code",
   "execution_count": 18,
   "metadata": {},
   "outputs": [],
   "source": [
    "# Download and parse the excel spreadsheet\n",
    "df2020 = pd.read_excel('http://www2.cao.ie/points/CAOPointsCharts2020.xlsx', skiprows=10)"
   ]
  },
  {
   "cell_type": "code",
   "execution_count": 19,
   "metadata": {},
   "outputs": [
    {
     "data": {
      "text/html": [
       "<div>\n",
       "<style scoped>\n",
       "    .dataframe tbody tr th:only-of-type {\n",
       "        vertical-align: middle;\n",
       "    }\n",
       "\n",
       "    .dataframe tbody tr th {\n",
       "        vertical-align: top;\n",
       "    }\n",
       "\n",
       "    .dataframe thead th {\n",
       "        text-align: right;\n",
       "    }\n",
       "</style>\n",
       "<table border=\"1\" class=\"dataframe\">\n",
       "  <thead>\n",
       "    <tr style=\"text-align: right;\">\n",
       "      <th></th>\n",
       "      <th>CATEGORY (i.e.ISCED description)</th>\n",
       "      <th>COURSE TITLE</th>\n",
       "      <th>COURSE CODE2</th>\n",
       "      <th>R1 POINTS</th>\n",
       "      <th>R1 Random *</th>\n",
       "      <th>R2 POINTS</th>\n",
       "      <th>R2 Random*</th>\n",
       "      <th>EOS</th>\n",
       "      <th>EOS Random *</th>\n",
       "      <th>EOS Mid-point</th>\n",
       "      <th>...</th>\n",
       "      <th>avp</th>\n",
       "      <th>v</th>\n",
       "      <th>Column1</th>\n",
       "      <th>Column2</th>\n",
       "      <th>Column3</th>\n",
       "      <th>Column4</th>\n",
       "      <th>Column5</th>\n",
       "      <th>Column6</th>\n",
       "      <th>Column7</th>\n",
       "      <th>Column8</th>\n",
       "    </tr>\n",
       "  </thead>\n",
       "  <tbody>\n",
       "    <tr>\n",
       "      <th>0</th>\n",
       "      <td>Business and administration</td>\n",
       "      <td>International Business</td>\n",
       "      <td>AC120</td>\n",
       "      <td>209</td>\n",
       "      <td>NaN</td>\n",
       "      <td>NaN</td>\n",
       "      <td>NaN</td>\n",
       "      <td>209</td>\n",
       "      <td>NaN</td>\n",
       "      <td>280</td>\n",
       "      <td>...</td>\n",
       "      <td>NaN</td>\n",
       "      <td>NaN</td>\n",
       "      <td>NaN</td>\n",
       "      <td>NaN</td>\n",
       "      <td>NaN</td>\n",
       "      <td>NaN</td>\n",
       "      <td>NaN</td>\n",
       "      <td>NaN</td>\n",
       "      <td>NaN</td>\n",
       "      <td>NaN</td>\n",
       "    </tr>\n",
       "    <tr>\n",
       "      <th>1</th>\n",
       "      <td>Humanities (except languages)</td>\n",
       "      <td>Liberal Arts</td>\n",
       "      <td>AC137</td>\n",
       "      <td>252</td>\n",
       "      <td>NaN</td>\n",
       "      <td>NaN</td>\n",
       "      <td>NaN</td>\n",
       "      <td>252</td>\n",
       "      <td>NaN</td>\n",
       "      <td>270</td>\n",
       "      <td>...</td>\n",
       "      <td>NaN</td>\n",
       "      <td>NaN</td>\n",
       "      <td>NaN</td>\n",
       "      <td>NaN</td>\n",
       "      <td>NaN</td>\n",
       "      <td>NaN</td>\n",
       "      <td>NaN</td>\n",
       "      <td>NaN</td>\n",
       "      <td>NaN</td>\n",
       "      <td>NaN</td>\n",
       "    </tr>\n",
       "    <tr>\n",
       "      <th>2</th>\n",
       "      <td>Arts</td>\n",
       "      <td>First Year Art &amp; Design (Common Entry,portfolio)</td>\n",
       "      <td>AD101</td>\n",
       "      <td>#+matric</td>\n",
       "      <td>NaN</td>\n",
       "      <td>NaN</td>\n",
       "      <td>NaN</td>\n",
       "      <td>#+matric</td>\n",
       "      <td>NaN</td>\n",
       "      <td>#+matric</td>\n",
       "      <td>...</td>\n",
       "      <td>NaN</td>\n",
       "      <td>NaN</td>\n",
       "      <td>NaN</td>\n",
       "      <td>NaN</td>\n",
       "      <td>NaN</td>\n",
       "      <td>NaN</td>\n",
       "      <td>NaN</td>\n",
       "      <td>NaN</td>\n",
       "      <td>NaN</td>\n",
       "      <td>NaN</td>\n",
       "    </tr>\n",
       "    <tr>\n",
       "      <th>3</th>\n",
       "      <td>Arts</td>\n",
       "      <td>Graphic Design and Moving Image Design (portfo...</td>\n",
       "      <td>AD102</td>\n",
       "      <td>#+matric</td>\n",
       "      <td>NaN</td>\n",
       "      <td>NaN</td>\n",
       "      <td>NaN</td>\n",
       "      <td>#+matric</td>\n",
       "      <td>NaN</td>\n",
       "      <td>#+matric</td>\n",
       "      <td>...</td>\n",
       "      <td>NaN</td>\n",
       "      <td>NaN</td>\n",
       "      <td>NaN</td>\n",
       "      <td>NaN</td>\n",
       "      <td>NaN</td>\n",
       "      <td>NaN</td>\n",
       "      <td>NaN</td>\n",
       "      <td>NaN</td>\n",
       "      <td>NaN</td>\n",
       "      <td>NaN</td>\n",
       "    </tr>\n",
       "    <tr>\n",
       "      <th>4</th>\n",
       "      <td>Arts</td>\n",
       "      <td>Textile &amp; Surface Design and Jewellery &amp; Objec...</td>\n",
       "      <td>AD103</td>\n",
       "      <td>#+matric</td>\n",
       "      <td>NaN</td>\n",
       "      <td>NaN</td>\n",
       "      <td>NaN</td>\n",
       "      <td>#+matric</td>\n",
       "      <td>NaN</td>\n",
       "      <td>#+matric</td>\n",
       "      <td>...</td>\n",
       "      <td>NaN</td>\n",
       "      <td>NaN</td>\n",
       "      <td>NaN</td>\n",
       "      <td>NaN</td>\n",
       "      <td>NaN</td>\n",
       "      <td>NaN</td>\n",
       "      <td>NaN</td>\n",
       "      <td>NaN</td>\n",
       "      <td>NaN</td>\n",
       "      <td>NaN</td>\n",
       "    </tr>\n",
       "    <tr>\n",
       "      <th>...</th>\n",
       "      <td>...</td>\n",
       "      <td>...</td>\n",
       "      <td>...</td>\n",
       "      <td>...</td>\n",
       "      <td>...</td>\n",
       "      <td>...</td>\n",
       "      <td>...</td>\n",
       "      <td>...</td>\n",
       "      <td>...</td>\n",
       "      <td>...</td>\n",
       "      <td>...</td>\n",
       "      <td>...</td>\n",
       "      <td>...</td>\n",
       "      <td>...</td>\n",
       "      <td>...</td>\n",
       "      <td>...</td>\n",
       "      <td>...</td>\n",
       "      <td>...</td>\n",
       "      <td>...</td>\n",
       "      <td>...</td>\n",
       "      <td>...</td>\n",
       "    </tr>\n",
       "    <tr>\n",
       "      <th>1459</th>\n",
       "      <td>Manufacturing and processing</td>\n",
       "      <td>Manufacturing Engineering</td>\n",
       "      <td>WD208</td>\n",
       "      <td>188</td>\n",
       "      <td>NaN</td>\n",
       "      <td>NaN</td>\n",
       "      <td>NaN</td>\n",
       "      <td>188</td>\n",
       "      <td>NaN</td>\n",
       "      <td>339</td>\n",
       "      <td>...</td>\n",
       "      <td>NaN</td>\n",
       "      <td>NaN</td>\n",
       "      <td>NaN</td>\n",
       "      <td>NaN</td>\n",
       "      <td>NaN</td>\n",
       "      <td>NaN</td>\n",
       "      <td>NaN</td>\n",
       "      <td>NaN</td>\n",
       "      <td>NaN</td>\n",
       "      <td>NaN</td>\n",
       "    </tr>\n",
       "    <tr>\n",
       "      <th>1460</th>\n",
       "      <td>Information and Communication Technologies (ICTs)</td>\n",
       "      <td>Software Systems Development</td>\n",
       "      <td>WD210</td>\n",
       "      <td>279</td>\n",
       "      <td>NaN</td>\n",
       "      <td>NaN</td>\n",
       "      <td>NaN</td>\n",
       "      <td>279</td>\n",
       "      <td>NaN</td>\n",
       "      <td>337</td>\n",
       "      <td>...</td>\n",
       "      <td>NaN</td>\n",
       "      <td>NaN</td>\n",
       "      <td>NaN</td>\n",
       "      <td>NaN</td>\n",
       "      <td>NaN</td>\n",
       "      <td>NaN</td>\n",
       "      <td>NaN</td>\n",
       "      <td>NaN</td>\n",
       "      <td>NaN</td>\n",
       "      <td>NaN</td>\n",
       "    </tr>\n",
       "    <tr>\n",
       "      <th>1461</th>\n",
       "      <td>Information and Communication Technologies (ICTs)</td>\n",
       "      <td>Creative Computing</td>\n",
       "      <td>WD211</td>\n",
       "      <td>271</td>\n",
       "      <td>NaN</td>\n",
       "      <td>NaN</td>\n",
       "      <td>NaN</td>\n",
       "      <td>271</td>\n",
       "      <td>NaN</td>\n",
       "      <td>318</td>\n",
       "      <td>...</td>\n",
       "      <td>NaN</td>\n",
       "      <td>NaN</td>\n",
       "      <td>NaN</td>\n",
       "      <td>NaN</td>\n",
       "      <td>NaN</td>\n",
       "      <td>NaN</td>\n",
       "      <td>NaN</td>\n",
       "      <td>NaN</td>\n",
       "      <td>NaN</td>\n",
       "      <td>NaN</td>\n",
       "    </tr>\n",
       "    <tr>\n",
       "      <th>1462</th>\n",
       "      <td>Personal services</td>\n",
       "      <td>Recreation and Sport Management</td>\n",
       "      <td>WD212</td>\n",
       "      <td>270</td>\n",
       "      <td>NaN</td>\n",
       "      <td>NaN</td>\n",
       "      <td>NaN</td>\n",
       "      <td>270</td>\n",
       "      <td>NaN</td>\n",
       "      <td>349</td>\n",
       "      <td>...</td>\n",
       "      <td>NaN</td>\n",
       "      <td>NaN</td>\n",
       "      <td>NaN</td>\n",
       "      <td>NaN</td>\n",
       "      <td>NaN</td>\n",
       "      <td>NaN</td>\n",
       "      <td>NaN</td>\n",
       "      <td>NaN</td>\n",
       "      <td>NaN</td>\n",
       "      <td>NaN</td>\n",
       "    </tr>\n",
       "    <tr>\n",
       "      <th>1463</th>\n",
       "      <td>Engineering and engineering trades</td>\n",
       "      <td>Mechanical and Manufacturing Engineering</td>\n",
       "      <td>WD230</td>\n",
       "      <td>253</td>\n",
       "      <td>NaN</td>\n",
       "      <td>NaN</td>\n",
       "      <td>NaN</td>\n",
       "      <td>253</td>\n",
       "      <td>NaN</td>\n",
       "      <td>369</td>\n",
       "      <td>...</td>\n",
       "      <td>NaN</td>\n",
       "      <td>NaN</td>\n",
       "      <td>NaN</td>\n",
       "      <td>NaN</td>\n",
       "      <td>NaN</td>\n",
       "      <td>NaN</td>\n",
       "      <td>NaN</td>\n",
       "      <td>NaN</td>\n",
       "      <td>NaN</td>\n",
       "      <td>NaN</td>\n",
       "    </tr>\n",
       "  </tbody>\n",
       "</table>\n",
       "<p>1464 rows × 23 columns</p>\n",
       "</div>"
      ],
      "text/plain": [
       "                       CATEGORY (i.e.ISCED description)  \\\n",
       "0                           Business and administration   \n",
       "1                         Humanities (except languages)   \n",
       "2                                                  Arts   \n",
       "3                                                  Arts   \n",
       "4                                                  Arts   \n",
       "...                                                 ...   \n",
       "1459                       Manufacturing and processing   \n",
       "1460  Information and Communication Technologies (ICTs)   \n",
       "1461  Information and Communication Technologies (ICTs)   \n",
       "1462                                  Personal services   \n",
       "1463                 Engineering and engineering trades   \n",
       "\n",
       "                                           COURSE TITLE COURSE CODE2  \\\n",
       "0                                International Business        AC120   \n",
       "1                                          Liberal Arts        AC137   \n",
       "2      First Year Art & Design (Common Entry,portfolio)        AD101   \n",
       "3     Graphic Design and Moving Image Design (portfo...        AD102   \n",
       "4     Textile & Surface Design and Jewellery & Objec...        AD103   \n",
       "...                                                 ...          ...   \n",
       "1459                          Manufacturing Engineering        WD208   \n",
       "1460                       Software Systems Development        WD210   \n",
       "1461                                 Creative Computing        WD211   \n",
       "1462                    Recreation and Sport Management        WD212   \n",
       "1463           Mechanical and Manufacturing Engineering        WD230   \n",
       "\n",
       "     R1 POINTS R1 Random * R2 POINTS R2 Random*       EOS EOS Random *  \\\n",
       "0          209         NaN       NaN        NaN       209          NaN   \n",
       "1          252         NaN       NaN        NaN       252          NaN   \n",
       "2     #+matric         NaN       NaN        NaN  #+matric          NaN   \n",
       "3     #+matric         NaN       NaN        NaN  #+matric          NaN   \n",
       "4     #+matric         NaN       NaN        NaN  #+matric          NaN   \n",
       "...        ...         ...       ...        ...       ...          ...   \n",
       "1459       188         NaN       NaN        NaN       188          NaN   \n",
       "1460       279         NaN       NaN        NaN       279          NaN   \n",
       "1461       271         NaN       NaN        NaN       271          NaN   \n",
       "1462       270         NaN       NaN        NaN       270          NaN   \n",
       "1463       253         NaN       NaN        NaN       253          NaN   \n",
       "\n",
       "     EOS Mid-point  ...  avp    v Column1 Column2 Column3  Column4  Column5  \\\n",
       "0              280  ...  NaN  NaN     NaN     NaN     NaN      NaN      NaN   \n",
       "1              270  ...  NaN  NaN     NaN     NaN     NaN      NaN      NaN   \n",
       "2         #+matric  ...  NaN  NaN     NaN     NaN     NaN      NaN      NaN   \n",
       "3         #+matric  ...  NaN  NaN     NaN     NaN     NaN      NaN      NaN   \n",
       "4         #+matric  ...  NaN  NaN     NaN     NaN     NaN      NaN      NaN   \n",
       "...            ...  ...  ...  ...     ...     ...     ...      ...      ...   \n",
       "1459           339  ...  NaN  NaN     NaN     NaN     NaN      NaN      NaN   \n",
       "1460           337  ...  NaN  NaN     NaN     NaN     NaN      NaN      NaN   \n",
       "1461           318  ...  NaN  NaN     NaN     NaN     NaN      NaN      NaN   \n",
       "1462           349  ...  NaN  NaN     NaN     NaN     NaN      NaN      NaN   \n",
       "1463           369  ...  NaN  NaN     NaN     NaN     NaN      NaN      NaN   \n",
       "\n",
       "      Column6  Column7  Column8  \n",
       "0         NaN      NaN      NaN  \n",
       "1         NaN      NaN      NaN  \n",
       "2         NaN      NaN      NaN  \n",
       "3         NaN      NaN      NaN  \n",
       "4         NaN      NaN      NaN  \n",
       "...       ...      ...      ...  \n",
       "1459      NaN      NaN      NaN  \n",
       "1460      NaN      NaN      NaN  \n",
       "1461      NaN      NaN      NaN  \n",
       "1462      NaN      NaN      NaN  \n",
       "1463      NaN      NaN      NaN  \n",
       "\n",
       "[1464 rows x 23 columns]"
      ]
     },
     "execution_count": 19,
     "metadata": {},
     "output_type": "execute_result"
    }
   ],
   "source": [
    "df2020\n"
   ]
  },
  {
   "cell_type": "code",
   "execution_count": 14,
   "metadata": {},
   "outputs": [
    {
     "data": {
      "text/plain": [
       "CATEGORY (i.e.ISCED description)          Engineering and engineering trades\n",
       "COURSE TITLE                        Road Transport Technology and Management\n",
       "COURSE CODE2                                                           LC286\n",
       "R1 POINTS                                                                264\n",
       "R1 Random *                                                              NaN\n",
       "R2 POINTS                                                                NaN\n",
       "R2 Random*                                                               NaN\n",
       "EOS                                                                      264\n",
       "EOS Random *                                                             NaN\n",
       "EOS Mid-point                                                            360\n",
       "LEVEL                                                                      7\n",
       "HEI                                         Limerick Institute of Technology\n",
       "Test/Interview #                                                         NaN\n",
       "avp                                                                      NaN\n",
       "v                                                                        NaN\n",
       "Column1                                                                  NaN\n",
       "Column2                                                                  NaN\n",
       "Column3                                                                  NaN\n",
       "Column4                                                                  NaN\n",
       "Column5                                                                  NaN\n",
       "Column6                                                                  NaN\n",
       "Column7                                                                  NaN\n",
       "Column8                                                                  NaN\n",
       "Name: 753, dtype: object"
      ]
     },
     "execution_count": 14,
     "metadata": {},
     "output_type": "execute_result"
    }
   ],
   "source": [
    "# Spot check a random row\n",
    "df2020.iloc[753]"
   ]
  },
  {
   "cell_type": "code",
   "execution_count": 15,
   "metadata": {},
   "outputs": [
    {
     "data": {
      "text/plain": [
       "CATEGORY (i.e.ISCED description)                    Personal services\n",
       "COURSE TITLE                          Recreation and Sport Management\n",
       "COURSE CODE2                                                    WD212\n",
       "R1 POINTS                                                         270\n",
       "R1 Random *                                                       NaN\n",
       "R2 POINTS                                                         NaN\n",
       "R2 Random*                                                        NaN\n",
       "EOS                                                               270\n",
       "EOS Random *                                                      NaN\n",
       "EOS Mid-point                                                     349\n",
       "LEVEL                                                               8\n",
       "HEI                                 Waterford Institute of Technology\n",
       "Test/Interview #                                                  NaN\n",
       "avp                                                               NaN\n",
       "v                                                                 NaN\n",
       "Column1                                                           NaN\n",
       "Column2                                                           NaN\n",
       "Column3                                                           NaN\n",
       "Column4                                                           NaN\n",
       "Column5                                                           NaN\n",
       "Column6                                                           NaN\n",
       "Column7                                                           NaN\n",
       "Column8                                                           NaN\n",
       "Name: 1462, dtype: object"
      ]
     },
     "execution_count": 15,
     "metadata": {},
     "output_type": "execute_result"
    }
   ],
   "source": [
    "#Spot check the last but one row\n",
    "df2020.iloc[-2]"
   ]
  },
  {
   "cell_type": "code",
   "execution_count": 16,
   "metadata": {},
   "outputs": [],
   "source": [
    "# Create a file path for the pandas data\n",
    "path = 'data/cao2020_' + nowstr + '.csv'"
   ]
  },
  {
   "cell_type": "code",
   "execution_count": 17,
   "metadata": {},
   "outputs": [],
   "source": [
    "# Save pandas data frame to disk\n",
    "df2020.to_csv(path)"
   ]
  },
  {
   "cell_type": "markdown",
   "metadata": {},
   "source": [
    "<br>\n",
    "\n",
    "## 2019 Points\n",
    "\n",
    "http://www2.cao.ie/points/lvl8_19.pdf\n",
    "\n",
    "https://www.cao.ie/index.php?page=points&p=2019&bb=points\n",
    "\n",
    "***\n"
   ]
  },
  {
   "cell_type": "markdown",
   "metadata": {},
   "source": [
    "#### Steps to Reproduce\n",
    "\n",
    "1. Download original pdf file\n",
    "2. Open original pdf file in MS Word\n",
    "3. Save MS Word's converted pdf in docx format\n",
    "4. Re-save MS Word document for editing\n",
    "5. Delete headers and footers\n",
    "6. Delete preamble on page 1\n",
    "7. Select all and copy\n",
    "8. Paste into Notepad++\n",
    "9. Remove HEI name headings and paste onto each course line\n",
    "10. Delete blank lines\n",
    "11. Replace double tabs with single tabs\n",
    "12. Change backticks to apostrophes\n",
    "13. Remove any extra tabs at end of line\n"
   ]
  },
  {
   "cell_type": "code",
   "execution_count": 68,
   "metadata": {},
   "outputs": [],
   "source": [
    "df2019 = pd.read_csv('data/cao2019_20211124_080300_edited.csv', sep='\\t')"
   ]
  },
  {
   "cell_type": "code",
   "execution_count": 69,
   "metadata": {},
   "outputs": [
    {
     "data": {
      "text/html": [
       "<div>\n",
       "<style scoped>\n",
       "    .dataframe tbody tr th:only-of-type {\n",
       "        vertical-align: middle;\n",
       "    }\n",
       "\n",
       "    .dataframe tbody tr th {\n",
       "        vertical-align: top;\n",
       "    }\n",
       "\n",
       "    .dataframe thead th {\n",
       "        text-align: right;\n",
       "    }\n",
       "</style>\n",
       "<table border=\"1\" class=\"dataframe\">\n",
       "  <thead>\n",
       "    <tr style=\"text-align: right;\">\n",
       "      <th></th>\n",
       "      <th>Course Code</th>\n",
       "      <th>INSTITUTION and COURSE</th>\n",
       "      <th>EOS</th>\n",
       "      <th>Mid</th>\n",
       "    </tr>\n",
       "  </thead>\n",
       "  <tbody>\n",
       "    <tr>\n",
       "      <th>Athlone Institute of Technology</th>\n",
       "      <td>AL801</td>\n",
       "      <td>Software Design with Virtual Reality and Gaming</td>\n",
       "      <td>304</td>\n",
       "      <td>328.0</td>\n",
       "    </tr>\n",
       "    <tr>\n",
       "      <th>Athlone Institute of Technology</th>\n",
       "      <td>AL802</td>\n",
       "      <td>Software Design with Cloud Computing</td>\n",
       "      <td>301</td>\n",
       "      <td>306.0</td>\n",
       "    </tr>\n",
       "    <tr>\n",
       "      <th>Athlone Institute of Technology</th>\n",
       "      <td>AL803</td>\n",
       "      <td>Software Design with Mobile Apps and Connected...</td>\n",
       "      <td>309</td>\n",
       "      <td>337.0</td>\n",
       "    </tr>\n",
       "    <tr>\n",
       "      <th>Athlone Institute of Technology</th>\n",
       "      <td>AL805</td>\n",
       "      <td>Network Management and Cloud Infrastructure</td>\n",
       "      <td>329</td>\n",
       "      <td>442.0</td>\n",
       "    </tr>\n",
       "    <tr>\n",
       "      <th>Athlone Institute of Technology</th>\n",
       "      <td>AL810</td>\n",
       "      <td>Quantity Surveying</td>\n",
       "      <td>307</td>\n",
       "      <td>349.0</td>\n",
       "    </tr>\n",
       "    <tr>\n",
       "      <th>...</th>\n",
       "      <td>...</td>\n",
       "      <td>...</td>\n",
       "      <td>...</td>\n",
       "      <td>...</td>\n",
       "    </tr>\n",
       "    <tr>\n",
       "      <th>Waterford Institute of Technology</th>\n",
       "      <td>WD200</td>\n",
       "      <td>Arts (options)</td>\n",
       "      <td>221</td>\n",
       "      <td>296.0</td>\n",
       "    </tr>\n",
       "    <tr>\n",
       "      <th>Waterford Institute of Technology</th>\n",
       "      <td>WD210</td>\n",
       "      <td>Software Systems Development</td>\n",
       "      <td>271</td>\n",
       "      <td>329.0</td>\n",
       "    </tr>\n",
       "    <tr>\n",
       "      <th>Waterford Institute of Technology</th>\n",
       "      <td>WD211</td>\n",
       "      <td>Creative Computing</td>\n",
       "      <td>275</td>\n",
       "      <td>322.0</td>\n",
       "    </tr>\n",
       "    <tr>\n",
       "      <th>Waterford Institute of Technology</th>\n",
       "      <td>WD212</td>\n",
       "      <td>Recreation and Sport Management</td>\n",
       "      <td>274</td>\n",
       "      <td>311.0</td>\n",
       "    </tr>\n",
       "    <tr>\n",
       "      <th>Waterford Institute of Technology</th>\n",
       "      <td>WD230</td>\n",
       "      <td>Mechanical and Manufacturing Engineering</td>\n",
       "      <td>273</td>\n",
       "      <td>348.0</td>\n",
       "    </tr>\n",
       "  </tbody>\n",
       "</table>\n",
       "<p>931 rows × 4 columns</p>\n",
       "</div>"
      ],
      "text/plain": [
       "                                  Course Code  \\\n",
       "Athlone Institute of Technology         AL801   \n",
       "Athlone Institute of Technology         AL802   \n",
       "Athlone Institute of Technology         AL803   \n",
       "Athlone Institute of Technology         AL805   \n",
       "Athlone Institute of Technology         AL810   \n",
       "...                                       ...   \n",
       "Waterford Institute of Technology       WD200   \n",
       "Waterford Institute of Technology       WD210   \n",
       "Waterford Institute of Technology       WD211   \n",
       "Waterford Institute of Technology       WD212   \n",
       "Waterford Institute of Technology       WD230   \n",
       "\n",
       "                                                              INSTITUTION and COURSE  \\\n",
       "Athlone Institute of Technology      Software Design with Virtual Reality and Gaming   \n",
       "Athlone Institute of Technology                 Software Design with Cloud Computing   \n",
       "Athlone Institute of Technology    Software Design with Mobile Apps and Connected...   \n",
       "Athlone Institute of Technology          Network Management and Cloud Infrastructure   \n",
       "Athlone Institute of Technology                                   Quantity Surveying   \n",
       "...                                                                              ...   \n",
       "Waterford Institute of Technology                                     Arts (options)   \n",
       "Waterford Institute of Technology                       Software Systems Development   \n",
       "Waterford Institute of Technology                                 Creative Computing   \n",
       "Waterford Institute of Technology                    Recreation and Sport Management   \n",
       "Waterford Institute of Technology           Mechanical and Manufacturing Engineering   \n",
       "\n",
       "                                   EOS    Mid  \n",
       "Athlone Institute of Technology    304  328.0  \n",
       "Athlone Institute of Technology    301  306.0  \n",
       "Athlone Institute of Technology    309  337.0  \n",
       "Athlone Institute of Technology    329  442.0  \n",
       "Athlone Institute of Technology    307  349.0  \n",
       "...                                ...    ...  \n",
       "Waterford Institute of Technology  221  296.0  \n",
       "Waterford Institute of Technology  271  329.0  \n",
       "Waterford Institute of Technology  275  322.0  \n",
       "Waterford Institute of Technology  274  311.0  \n",
       "Waterford Institute of Technology  273  348.0  \n",
       "\n",
       "[931 rows x 4 columns]"
      ]
     },
     "execution_count": 69,
     "metadata": {},
     "output_type": "execute_result"
    }
   ],
   "source": [
    "df2019"
   ]
  },
  {
   "cell_type": "code",
   "execution_count": null,
   "metadata": {},
   "outputs": [],
   "source": []
  },
  {
   "cell_type": "code",
   "execution_count": null,
   "metadata": {},
   "outputs": [],
   "source": []
  },
  {
   "cell_type": "code",
   "execution_count": null,
   "metadata": {},
   "outputs": [],
   "source": []
  },
  {
   "cell_type": "code",
   "execution_count": null,
   "metadata": {},
   "outputs": [],
   "source": []
  },
  {
   "cell_type": "code",
   "execution_count": null,
   "metadata": {},
   "outputs": [],
   "source": []
  },
  {
   "cell_type": "markdown",
   "metadata": {},
   "source": [
    "# My attempt Level 6/7 2021 data"
   ]
  },
  {
   "cell_type": "markdown",
   "metadata": {},
   "source": [
    "# Fetch the CAO points URL.\n",
    "resp = rq.get('http://www2.cao.ie/points/l76.php')\n",
    "# Have a look\n",
    "resp"
   ]
  },
  {
   "cell_type": "markdown",
   "metadata": {},
   "source": [
    "# get the current date and time\n",
    "now = dt.datetime.now()\n",
    "\n",
    "# format as a string\n",
    "nowstr = now.strftime('%Y%m%d_%H%M%S')"
   ]
  },
  {
   "cell_type": "markdown",
   "metadata": {},
   "source": [
    "# Create a file path for the original data\n",
    "path = 'data/cao2021_LvL7_LvL6_' + nowstr + '.html'"
   ]
  },
  {
   "cell_type": "markdown",
   "metadata": {},
   "source": [
    "# Save the original html file\n",
    "with open(path, 'w') as f:\n",
    "    f.write(resp.text)"
   ]
  },
  {
   "cell_type": "markdown",
   "metadata": {},
   "source": [
    "# Compile the regular expression for matching lines\n",
    "#re_course = re.compile(r'([A-Z]{2}[0-9]{3}) (.*)([0-9]{3})(\\*?) *')\n",
    "#re_course = re.compile(r'([A-Z]{2}[0-9]{3}) (.*)([\\w]{3})(\\*?) *') \n",
    "#re_course = re.compile(r'([A-Z]{2}[0-9]{3}) (.*)([\\w]{3})(\\w*?) *') - this does not include row with zero entries in the 20/21 columns, and some entries are split into 5 columns \n",
    "\n",
    "# this has changed from Ian's so that there are 3 spaces so that course titles with more than 2 spaces are kept in single cell\n",
    "# but courses with no CAO points number are still not included\n",
    "#re_course = re.compile(r'([A-Z]{2}[0-9]{3})  (.*)([\\w]{3})(\\w*?) *')  \n",
    "\n",
    "# this gets more lines 416 compared to 410\n",
    "#re_course = re.compile(r'([A-Z]{2}[0-9,\\s]{3})  (.*)([\\w]{3})*')  \n",
    "\n",
    "re_course = re.compile(r'([A-Z]{2}[0-9,\\s]{3})  (.*)([\\w]{3})(\\D?)*')  \n",
    "\n",
    "\n",
    " "
   ]
  },
  {
   "cell_type": "markdown",
   "metadata": {},
   "source": [
    "# File path for the csv file\n",
    "path = 'data/cao2021_LvL7_LvL6_' + nowstr + '.csv'\n",
    "\n",
    "# Keep track of how many courses we process\n",
    "no_lines = 0\n",
    "\n",
    "# OPen the csv file for writing\n",
    "with open(path, 'w') as f:\n",
    "    # Loop through lines of the response\n",
    "    for line in resp.iter_lines():\n",
    "        # Decode the line, using the wrong encoding\n",
    "        dline = line.decode('cp1252')\n",
    "        # match only the lines we want - the ones representing courses\n",
    "        if re_course.fullmatch(dline):\n",
    "            # add 1 to the lines counter\n",
    "            no_lines = no_lines + 1\n",
    "            # split the line on 3 or more spaces - this has changed from Ian's\n",
    "            #linesplit = re.split('  +', dline)\n",
    "            linesplit = re.split('[E*]', dline)\n",
    "            # Rejoin the substrings with commas in between\n",
    "            f.write(','.join(linesplit) + '\\n')\n",
    "            \n",
    "               \n",
    "# Print the total number of processed lines        \n",
    "print(f\"Total number of lines is {no_lines}.\")"
   ]
  },
  {
   "cell_type": "markdown",
   "metadata": {},
   "source": []
  },
  {
   "cell_type": "markdown",
   "metadata": {},
   "source": [
    "import re\n",
    "\n",
    "s_nums = 'one1two22three333four'\n",
    "\n",
    "print(re.split('[o]', s_nums))\n",
    "# ['one', 'two', 'three', 'four']\n"
   ]
  },
  {
   "cell_type": "markdown",
   "metadata": {},
   "source": []
  }
 ],
 "metadata": {
  "kernelspec": {
   "display_name": "Python 3 (ipykernel)",
   "language": "python",
   "name": "python3"
  },
  "language_info": {
   "codemirror_mode": {
    "name": "ipython",
    "version": 3
   },
   "file_extension": ".py",
   "mimetype": "text/x-python",
   "name": "python",
   "nbconvert_exporter": "python",
   "pygments_lexer": "ipython3",
   "version": "3.8.11"
  }
 },
 "nbformat": 4,
 "nbformat_minor": 4
}
